{
 "cells": [
  {
   "cell_type": "markdown",
   "metadata": {},
   "source": [
    "### Zadanie 1"
   ]
  },
  {
   "cell_type": "markdown",
   "metadata": {},
   "source": [
    "1.1. Import modułów (należy zaimportować klasę LinearRegression z biblioteki sklearn.linear_model)."
   ]
  },
  {
   "cell_type": "code",
   "execution_count": 1,
   "metadata": {},
   "outputs": [],
   "source": [
    "from sklearn.linear_model import LinearRegression"
   ]
  },
  {
   "cell_type": "markdown",
   "metadata": {},
   "source": [
    "1.2. Otwarcie pliku z danymi. Należy zaimportować nazwy kolumn i stworzyć obiekt df. plik nazywa się housing.csv"
   ]
  },
  {
   "cell_type": "code",
   "execution_count": 2,
   "metadata": {},
   "outputs": [
    {
     "name": "stdout",
     "output_type": "stream",
     "text": [
      "   0.00632  18.00   2.310  0  0.5380  6.5750  65.20  4.0900   1  296.0  15.30 396.90   4.98  24.00\n",
      "0   0.02731   0.00   7.070  0  0.4690  6.4210  78...                                              \n",
      "1   0.02729   0.00   7.070  0  0.4690  7.1850  61...                                              \n",
      "2   0.03237   0.00   2.180  0  0.4580  6.9980  45...                                              \n",
      "3   0.06905   0.00   2.180  0  0.4580  7.1470  54...                                              \n",
      "4   0.02985   0.00   2.180  0  0.4580  6.4300  58...                                              \n"
     ]
    }
   ],
   "source": [
    "import pandas as pd\n",
    "\n",
    "df = pd.read_csv('housing.csv')\n",
    "print(df.head())"
   ]
  },
  {
   "cell_type": "markdown",
   "metadata": {},
   "source": [
    "1.3. Sprawdzenie podstawowych statystyk."
   ]
  },
  {
   "cell_type": "code",
   "execution_count": 3,
   "metadata": {},
   "outputs": [
    {
     "name": "stdout",
     "output_type": "stream",
     "text": [
      "        0.00632  18.00   2.310  0  0.5380  6.5750  65.20  4.0900   1  296.0  15.30 396.90   4.98  24.00\n",
      "count                                                 505                                              \n",
      "unique                                                505                                              \n",
      "top      0.02731   0.00   7.070  0  0.4690  6.4210  78...                                              \n",
      "freq                                                    1                                              \n"
     ]
    }
   ],
   "source": [
    "p_statystyki = df.describe()\n",
    "\n",
    "print(p_statystyki)"
   ]
  },
  {
   "cell_type": "markdown",
   "metadata": {},
   "source": [
    "1.4. Sprawdzenie kompletności danych."
   ]
  },
  {
   "cell_type": "markdown",
   "metadata": {},
   "source": [
    "1.5. Czy typy danych są akceptowalne?"
   ]
  },
  {
   "cell_type": "markdown",
   "metadata": {},
   "source": [
    "1.6. Należy stworzyć wykresy pudełkowe dla wszystkich kolumn."
   ]
  },
  {
   "cell_type": "markdown",
   "metadata": {},
   "source": [
    "1.7. Korzystając z metody IQR, czyli rozstępu międzykwartylowego, należy wyznaczyć %\n",
    "wartości odstających dla każdej z kolumn. Dana wartość jest traktowana jako odstająca, gdy\n",
    "xi < Q1 - 1.5 · IQR (wartość za mała) lub xi > Q3 +1.5 · IQR (wartość za duża)."
   ]
  },
  {
   "cell_type": "markdown",
   "metadata": {},
   "source": []
  },
  {
   "cell_type": "markdown",
   "metadata": {},
   "source": []
  }
 ],
 "metadata": {
  "kernelspec": {
   "display_name": "Python 3",
   "language": "python",
   "name": "python3"
  },
  "language_info": {
   "codemirror_mode": {
    "name": "ipython",
    "version": 3
   },
   "file_extension": ".py",
   "mimetype": "text/x-python",
   "name": "python",
   "nbconvert_exporter": "python",
   "pygments_lexer": "ipython3",
   "version": "3.9.13"
  }
 },
 "nbformat": 4,
 "nbformat_minor": 2
}
